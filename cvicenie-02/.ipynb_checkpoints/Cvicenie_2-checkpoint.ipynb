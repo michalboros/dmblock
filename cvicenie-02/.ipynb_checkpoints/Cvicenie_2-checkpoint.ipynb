{
 "cells": [
  {
   "cell_type": "code",
   "execution_count": 1,
   "metadata": {
    "id": "bivS68VweuxT"
   },
   "outputs": [],
   "source": [
    "############## PLEASE RUN THIS CELL FIRST! ###################\n",
    "\n",
    "# import everything and define a test runner function\n",
    "from importlib import reload\n",
    "from helper import run\n",
    "import ecc\n",
    "import helper\n",
    "import tx\n",
    "import script"
   ]
  },
  {
   "cell_type": "code",
   "execution_count": 2,
   "metadata": {
    "id": "qoZg01N4euxk"
   },
   "outputs": [
    {
     "name": "stdout",
     "output_type": "stream",
     "text": [
      "True\n"
     ]
    }
   ],
   "source": [
    "from tx import Tx\n",
    "from io import BytesIO\n",
    "raw_tx = ('0100000001813f79011acb80925dfe69b3def355fe914bd1d96a3f5f71bf8303c6a989c7d1000000006b483045022100ed81ff192e75a3fd2304004dcadb746fa5e24c5031ccfcf21320b0277457c98f02207a986d955c6e0cb35d446a89d3f56100f4d7f67801c31967743a9c8e10615bed01210349fc4e631e3624a545de3f89f5d8684c7b8138bd94bdd531d2e213bf016b278afeffffff02a135ef01000000001976a914bc3b654dca7e56b04dca18f2566cdaf02e8d9ada88ac99c39800000000001976a9141c4bc762dd5423e332166702cb75f40df79fea1288ac19430600')\n",
    "stream = BytesIO(bytes.fromhex(raw_tx))\n",
    "transaction = Tx.parse(stream)\n",
    "print(transaction.fee() >= 0)"
   ]
  },
  {
   "cell_type": "code",
   "execution_count": 3,
   "metadata": {
    "id": "Jc7iQg1Neuxk"
   },
   "outputs": [
    {
     "name": "stdout",
     "output_type": "stream",
     "text": [
      "True\n"
     ]
    }
   ],
   "source": [
    "from ecc import S256Point, Signature\n",
    "sec = bytes.fromhex('0349fc4e631e3624a545de3f89f5d8684c7b8138bd94bdd531d2e213bf016b278a')\n",
    "der = bytes.fromhex('3045022100ed81ff192e75a3fd2304004dcadb746fa5e24c5031ccfcf21320b0277457c98f02207a986d955c6e0cb35d446a89d3f56100f4d7f67801c31967743a9c8e10615bed')\n",
    "z = 0x27e0c5994dec7824e56dec6b2fcb342eb7cdb0d0957c2fce9882f715e85d81a6\n",
    "point = S256Point.parse(sec)\n",
    "signature = Signature.parse(der)\n",
    "print(point.verify(z, signature))"
   ]
  },
  {
   "cell_type": "code",
   "execution_count": 4,
   "metadata": {
    "id": "DXN_mO_7euxl"
   },
   "outputs": [
    {
     "name": "stdout",
     "output_type": "stream",
     "text": [
      "0x27e0c5994dec7824e56dec6b2fcb342eb7cdb0d0957c2fce9882f715e85d81a6\n"
     ]
    }
   ],
   "source": [
    "from helper import hash256\n",
    "modified_tx = bytes.fromhex('0100000001813f79011acb80925dfe69b3def355fe914bd1d96a3f5f71bf8303c6a989c7d1000000001976a914a802fc56c704ce87c42d7c92eb75e7896bdc41ae88acfeffffff02a135ef01000000001976a914bc3b654dca7e56b04dca18f2566cdaf02e8d9ada88ac99c39800000000001976a9141c4bc762dd5423e332166702cb75f40df79fea1288ac1943060001000000')\n",
    "h256 = hash256(modified_tx)\n",
    "z = int.from_bytes(h256, 'big')\n",
    "print(hex(z))"
   ]
  },
  {
   "cell_type": "markdown",
   "metadata": {
    "id": "fNqjT_zkdUMY"
   },
   "source": [
    "### Pre-exercise\n",
    "\n",
    "Create a testnet address for yourself using a long secret that only you know. This is important as there are bots on testnet trying to steal testnet coins. Make sure you write this secret down somewhere! You will be using the secret later to sign Transactions."
   ]
  },
  {
   "cell_type": "code",
   "execution_count": 5,
   "metadata": {
    "id": "_cb_oB7TdUMZ"
   },
   "outputs": [
    {
     "name": "stdout",
     "output_type": "stream",
     "text": [
      "n1wwhoL39gWu78rysJ5hog2seLckD4FqY4\n"
     ]
    }
   ],
   "source": [
    "# pre-Exercise\n",
    "\n",
    "from ecc import PrivateKey\n",
    "from helper import hash256, little_endian_to_int\n",
    "\n",
    "# select a passphrase here, add your email address into the passphrase for security\n",
    "# passphrase = b'your@email.address some secret only you know'\n",
    "# secret = little_endian_to_int(hash256(passphrase))\n",
    "# create a private key using your secret\n",
    "# print an address from the public point of the private key with testnet=True\n",
    "\n",
    "passphrase = b'Kristian@Kostal secret'\n",
    "secret = little_endian_to_int(hash256(passphrase))\n",
    "priv = PrivateKey(secret)\n",
    "print(priv.point.address(testnet=True))"
   ]
  },
  {
   "cell_type": "markdown",
   "metadata": {
    "id": "Fsn4sdXfeuxl"
   },
   "source": [
    "### Exercise 1\n",
    "\n",
    "Write the `sig_hash` method for the `Tx` class.\n",
    "\n",
    "#### Make this test pass: `tx.py:TxTest:test_sig_hash`"
   ]
  },
  {
   "cell_type": "code",
   "execution_count": 6,
   "metadata": {
    "id": "x4FxE-bCeuxm"
   },
   "outputs": [
    {
     "name": "stderr",
     "output_type": "stream",
     "text": [
      ".\n",
      "----------------------------------------------------------------------\n",
      "Ran 1 test in 0.003s\n",
      "\n",
      "OK\n"
     ]
    }
   ],
   "source": [
    "# Exercise 1\n",
    "def sig_hash(self, input_index):\n",
    "    s = int_to_little_endian(self.version, 4)\n",
    "    s += encode_varint(len(self.tx_ins))\n",
    "    for i, tx_in in enumerate(self.tx_ins):\n",
    "        if i == input_index:\n",
    "            s += TxIn(\n",
    "                prev_tx=tx_in.prev_tx,\n",
    "                prev_index=tx_in.prev_index,\n",
    "                script_sig=tx_in.script_pubkey(self.testnet),\n",
    "                sequence=tx_in.sequence,\n",
    "            ).serialize()\n",
    "        else:\n",
    "            s += TxIn(\n",
    "                prev_tx=tx_in.prev_tx,\n",
    "                prev_index=tx_in.prev_index,\n",
    "                sequence=tx_in.sequence,\n",
    "            ).serialize()\n",
    "    s += encode_varint(len(self.tx_outs))\n",
    "    for tx_out in self.tx_outs:\n",
    "        s += tx_out.serialize()\n",
    "    s += int_to_little_endian(self.locktime, 4)\n",
    "    s += int_to_little_endian(SIGHASH_ALL, 4)\n",
    "    h256 = hash256(s)\n",
    "    return int.from_bytes(h256, 'big')\n",
    "    \n",
    "reload(tx)\n",
    "run(tx.TxTest(\"test_sig_hash\"))"
   ]
  },
  {
   "cell_type": "markdown",
   "metadata": {
    "id": "3XfO7BF_euxm"
   },
   "source": [
    "### Exercise 2\n",
    "\n",
    "Write the `verify_input` method for the `Tx` class. You will want to use the `TxIn.script_pubkey()`, `Tx.sig_hash()` and `Script.evaluate()` methods.\n",
    "\n",
    "#### Make this test pass: `tx.py:TxTest:test_verify_p2pkh`"
   ]
  },
  {
   "cell_type": "code",
   "execution_count": 7,
   "metadata": {
    "id": "E2qWq44weuxm"
   },
   "outputs": [
    {
     "name": "stderr",
     "output_type": "stream",
     "text": [
      ".\n",
      "----------------------------------------------------------------------\n",
      "Ran 1 test in 0.285s\n",
      "\n",
      "OK\n"
     ]
    }
   ],
   "source": [
    "# Exercise 2\n",
    "def verify_input(self, input_index):\n",
    "    tx_in = self.tx_ins[input_index]\n",
    "    script_pubkey = tx_in.script_pubkey(testnet=self.testnet)\n",
    "    z = self.sig_hash(input_index)\n",
    "    combined = tx_in.script_sig + script_pubkey\n",
    "    return combined.evaluate(z)\n",
    "    \n",
    "reload(tx)\n",
    "run(tx.TxTest(\"test_verify_p2pkh\"))"
   ]
  },
  {
   "cell_type": "markdown",
   "metadata": {
    "id": "Buu7cNYpeuxo"
   },
   "source": [
    "### Exercise 3\n",
    "\n",
    "Write the `sign_input` method for the `Tx` class.\n",
    "\n",
    "#### Make this test pass: `tx.py:TxTest:test_sign_input`"
   ]
  },
  {
   "cell_type": "code",
   "execution_count": 8,
   "metadata": {
    "id": "POprAx5meuxo"
   },
   "outputs": [
    {
     "name": "stderr",
     "output_type": "stream",
     "text": [
      ".\n",
      "----------------------------------------------------------------------\n",
      "Ran 1 test in 0.232s\n",
      "\n",
      "OK\n"
     ]
    }
   ],
   "source": [
    "# Exercise 3\n",
    "def sign_input(self, input_index, private_key):\n",
    "    z = self.sig_hash(input_index)\n",
    "    der = private_key.sign(z).der()\n",
    "    sig = der + SIGHASH_ALL.to_bytes(1, 'big')\n",
    "    sec = private_key.point.sec()\n",
    "    self.tx_ins[input_index].script_sig = Script([sig, sec])\n",
    "    return self.verify_input(input_index)\n",
    "    \n",
    "reload(tx)\n",
    "run(tx.TxTest(\"test_sign_input\"))"
   ]
  },
  {
   "cell_type": "markdown",
   "metadata": {
    "id": "k2kzGJBNeuxo"
   },
   "source": [
    "### Exercise 4\n",
    "\n",
    "Create a testnet transaction that sends 60% of a single UTXO to `mneiR8AnWiYjHSNiB1f91JojwryhwEq1oT`. The remaining amount minus fees should go back to your own change address. This should be a 1 input, 2 output transaction.\n",
    "\n",
    "You can broadcast the transaction at https://blockstream.info/testnet/tx/push"
   ]
  },
  {
   "cell_type": "code",
   "execution_count": 9,
   "metadata": {
    "id": "72OZq50Leuxr"
   },
   "outputs": [
    {
     "name": "stdout",
     "output_type": "stream",
     "text": [
      "False\n",
      "01000000019c639b1e5a44a487f78bc52328205c0957f90cb3cda7b88304f10e1cf47a4450000000006a473044022076b4bc5b48d7cf6b3a3fb55f0632a27baba10b9588a72691b37052e531e2f84b022049c9771ae497145ee0e4231e7e223d4a2fd1d61cfe4efc62cfc2b9d7ae43f84c012102c13c320d164d4d6dde7fefab96a22ff02cf678f907e7e1df018a83faa04b15b7ffffffff0270170000000000001976a9144e409f927e940f0de49b6d4f96b96dffae16722088acb09b0000000000001976a9144e409f927e940f0de49b6d4f96b96dffae16722088ac00000000\n"
     ]
    }
   ],
   "source": [
    "# Exercise 4\n",
    "\n",
    "from ecc import PrivateKey\n",
    "from helper import decode_base58, SIGHASH_ALL\n",
    "from script import p2pkh_script, Script\n",
    "from tx import TxIn, TxOut, Tx\n",
    "\n",
    "# create 1 TxIn and 2 TxOuts\n",
    "# 1 of the TxOuts should be back to your address\n",
    "# the other TxOut should be to this address\n",
    "\n",
    "# get the private key from the exercise in previous ipynb\n",
    "# change address should be the address generated in previous ipynb\n",
    "\n",
    "# get the prev_tx and prev_index from the transaction where you got\n",
    "# some testnet coins\n",
    "# create a transaction input for the previous transaction with\n",
    "# the default ScriptSig and sequence\n",
    "\n",
    "# target amount should be 60% of the output amount\n",
    "# set the fee to some reasonable amount\n",
    "# change amount = amount from the prev tx - target amount - fee\n",
    "\n",
    "# create a transaction output for the target amount and address\n",
    "# create a transaction output for the change amount and address\n",
    "# create the transaction object\n",
    "\n",
    "# sign the one input in the transaction object using the private key\n",
    "# print the transaction's serialization in hex\n",
    "# broadcast at https://blockstream.info/testnet/tx/push\n",
    "\n",
    "prev_tx = bytes.fromhex('50447af41c0ef10483b8a7cdb30cf957095c202823c58bf787a4445a1e9b639c') #this needs to be hash of your transaction\n",
    "prev_index = 0\n",
    "target_address = 'mneiR8AnWiYjHSNiB1f91JojwryhwEq1oT'\n",
    "target_amount = 0.6*0.0001 # 60% of value you got from faucet\n",
    "change_address = 'mneiR8AnWiYjHSNiB1f91JojwryhwEq1oT' #here comes your wallet\n",
    "fee = 0.0001*0.0144\n",
    "change_amount = 0.4*0.001 - fee #40% of value - fee goes back to your wallet\n",
    "passphrase = b'Kristian@Kostal secret' #here comes your passphrase\n",
    "secret = little_endian_to_int(hash256(passphrase))\n",
    "priv = PrivateKey(secret=secret)\n",
    "tx_ins = []\n",
    "tx_ins.append(TxIn(prev_tx, prev_index))\n",
    "tx_outs = []\n",
    "h160 = decode_base58(target_address)\n",
    "script_pubkey = p2pkh_script(h160)\n",
    "target_satoshis = int(target_amount*100000000)\n",
    "tx_outs.append(TxOut(target_satoshis, script_pubkey))\n",
    "h160 = decode_base58(change_address)\n",
    "script_pubkey = p2pkh_script(h160)\n",
    "change_satoshis = int(change_amount*100000000)\n",
    "tx_outs.append(TxOut(change_satoshis, script_pubkey))\n",
    "tx_obj = Tx(1, tx_ins, tx_outs, 0, testnet=True)\n",
    "print(tx_obj.sign_input(0, priv))\n",
    "\n",
    "print(tx_obj.serialize().hex())"
   ]
  },
  {
   "cell_type": "markdown",
   "metadata": {
    "id": "q6QkcCkreuxr"
   },
   "source": [
    "### Exercise 5\n",
    "\n",
    "Advanced: get some more testnet coins from a testnet faucet and create a 2 input, 1 output transaction. 1 input should be from the faucet, the other should be from the previous exercise, the output can be your own address.\n",
    "\n",
    "You can broadcast the transaction at https://blockstream.info/testnet/tx/push"
   ]
  },
  {
   "cell_type": "code",
   "execution_count": 10,
   "metadata": {
    "id": "fatw_sZXeuxs"
   },
   "outputs": [
    {
     "name": "stdout",
     "output_type": "stream",
     "text": [
      "False\n",
      "False\n",
      "010000000245b0ade195068b89d89c459eb7c604dc560649ad2ccdc23c8ca100699661f107010000006b483045022100f1da3f13942ff5078738b6a68b303d54868039a9d303558ae30138681e370905022046bebdaf5d2214da17a67279b98f8baa2a7d7f064a73c1c5ed21c1447c9e70a7012102c13c320d164d4d6dde7fefab96a22ff02cf678f907e7e1df018a83faa04b15b7ffffffff6cace519b8eee70e181fa66e1c8e1901a77516522b2ae9adf22624ac600ca235010000006a47304402205c959f4c22c261800b6bb9af9bf6ac3090ed82782df28f0a26d8e1cd2e881896022071a0cf442e687a958c6e474aea27098b357ac329bab3af89ea200f44efb87d9f012102c13c320d164d4d6dde7fefab96a22ff02cf678f907e7e1df018a83faa04b15b7ffffffff0160c80000000000001976a9144e409f927e940f0de49b6d4f96b96dffae16722088ac00000000\n"
     ]
    }
   ],
   "source": [
    "# Exercise 5\n",
    "\n",
    "from ecc import PrivateKey\n",
    "from helper import decode_base58, SIGHASH_ALL\n",
    "from script import p2pkh_script, Script\n",
    "from tx import TxIn, TxOut, Tx\n",
    "\n",
    "# Create 2 TxIns, 1 from the previous ipynb and 1 from a testnet faucet\n",
    "# Creat 1 TxOut to the address above\n",
    "\n",
    "# get the private key from the exercise in previous ipynb\n",
    "\n",
    "# get the prev_tx and prev_index from the transaction where you got\n",
    "# some testnet coins\n",
    "# create the first transaction input with the default ScriptSig and\n",
    "# sequence\n",
    "# get the prev_tx and prev_index from the transaction in previous ipynb\n",
    "# create the second transaction input with the default ScriptSig and\n",
    "# sequence\n",
    "\n",
    "# set the fee to some reasonable amount\n",
    "# target amount should be the sum of the inputs - fee\n",
    "\n",
    "# create a transaction output for the amount and address\n",
    "\n",
    "# sign the first input using the private key\n",
    "# sign the second input using the private key \n",
    "# print the transaction's serialization in hex\n",
    "# broadcast at https://blockstream.info/testnet/tx/push\n",
    "\n",
    "prev_tx_1 = bytes.fromhex('07f161966900a18c3cc2cd2cad490656dc04c6b79e459cd8898b0695e1adb045') #change the hash to your transaction\n",
    "prev_index_1 = 1\n",
    "prev_tx_2 = bytes.fromhex('35a20c60ac2426f2ade92a2b521675a701198e1c6ea61f180ee7eeb819e5ac6c') #change the hash to your transaction\n",
    "prev_index_2 = 1\n",
    "target_address = 'mneiR8AnWiYjHSNiB1f91JojwryhwEq1oT'\n",
    "fee = 0.0001*0.0144\n",
    "target_amount = 0.0005144 - fee\n",
    "passphrase = b'Kristian@Kostal secret'\n",
    "secret = little_endian_to_int(hash256(passphrase))\n",
    "priv = PrivateKey(secret=secret)\n",
    "tx_ins = []\n",
    "tx_ins.append(TxIn(prev_tx_1, prev_index_1))\n",
    "tx_ins.append(TxIn(prev_tx_2, prev_index_2))\n",
    "tx_outs = []\n",
    "h160 = decode_base58(target_address)\n",
    "script_pubkey = p2pkh_script(h160)\n",
    "target_satoshis = int(target_amount*100000000)\n",
    "tx_outs.append(TxOut(target_satoshis, script_pubkey))\n",
    "tx_obj = Tx(1, tx_ins, tx_outs, 0, testnet=True)\n",
    "print(tx_obj.sign_input(0, priv))\n",
    "\n",
    "print(tx_obj.sign_input(1, priv))\n",
    "\n",
    "print(tx_obj.serialize().hex())"
   ]
  },
  {
   "cell_type": "markdown",
   "metadata": {},
   "source": [
    "### Final exercises for fun\n",
    "Play with these codes and look what they print. Feel free to edit the codes and change anything you want."
   ]
  },
  {
   "cell_type": "code",
   "execution_count": 11,
   "metadata": {
    "id": "ekZAMEm3euxn"
   },
   "outputs": [
    {
     "name": "stdout",
     "output_type": "stream",
     "text": [
      "0100000001813f79011acb80925dfe69b3def355fe914bd1d96a3f5f71bf8303c6a989c7d1000000006a47304402207db2402a3311a3b845b038885e3dd889c08126a8570f26a844e3e4049c482a11022010178cdca4129eacbeab7c44648bf5ac1f9cac217cd609d216ec2ebc8d242c0a012103935581e52c354cd2f484fe8ed83af7a3097005b2f9c60bff71d35bd795f54b67feffffff02a135ef01000000001976a914bc3b654dca7e56b04dca18f2566cdaf02e8d9ada88ac99c39800000000001976a9141c4bc762dd5423e332166702cb75f40df79fea1288ac19430600\n"
     ]
    }
   ],
   "source": [
    "from ecc import PrivateKey\n",
    "from helper import SIGHASH_ALL\n",
    "z = transaction.sig_hash(0)\n",
    "private_key = PrivateKey(secret=8675309)\n",
    "der = private_key.sign(z).der()\n",
    "sig = der + SIGHASH_ALL.to_bytes(1, 'big')\n",
    "sec = private_key.point.sec()\n",
    "script_sig = Script([sig, sec])\n",
    "transaction.tx_ins[0].script_sig = script_sig \n",
    "print(transaction.serialize().hex())"
   ]
  },
  {
   "cell_type": "code",
   "execution_count": 12,
   "metadata": {
    "id": "WtVWLAjReuxn"
   },
   "outputs": [
    {
     "name": "stdout",
     "output_type": "stream",
     "text": [
      "tx: 5ac60f848d43035417da64eb3b2a06350285c0f4ef170b37db3a59bd514e2184\n",
      "version: 1\n",
      "tx_ins:\n",
      "0d6fe5213c0b3291f208cba8bfb59b7476dffacc4e5cb66f6eb20a080843a299:13\n",
      "tx_outs:\n",
      "33000000:OP_DUP OP_HASH160 d52ad7ca9b3d096a38e752c2018e6fbc40cdf26f OP_EQUALVERIFY OP_CHECKSIG\n",
      "10000000:OP_DUP OP_HASH160 4e409f927e940f0de49b6d4f96b96dffae167220 OP_EQUALVERIFY OP_CHECKSIG\n",
      "locktime: 0\n"
     ]
    }
   ],
   "source": [
    "from helper import decode_base58, SIGHASH_ALL\n",
    "from script import p2pkh_script, Script\n",
    "from tx import TxIn, TxOut, Tx\n",
    "prev_tx = bytes.fromhex('0d6fe5213c0b3291f208cba8bfb59b7476dffacc4e5cb66f6eb20a080843a299')\n",
    "prev_index = 13\n",
    "tx_in = TxIn(prev_tx, prev_index)\n",
    "tx_outs = []\n",
    "change_amount = int(0.33*100000000)\n",
    "change_h160 = decode_base58('mzx5YhAH9kNHtcN481u6WkjeHjYtVeKVh2')\n",
    "change_script = p2pkh_script(change_h160)\n",
    "change_output = TxOut(amount=change_amount, script_pubkey=change_script)\n",
    "target_amount = int(0.1*100000000)\n",
    "target_h160 = decode_base58('mneiR8AnWiYjHSNiB1f91JojwryhwEq1oT')\n",
    "target_script = p2pkh_script(target_h160)\n",
    "target_output = TxOut(amount=target_amount, script_pubkey=target_script)\n",
    "tx_obj = Tx(1, [tx_in], [change_output, target_output], 0, True)\n",
    "print(tx_obj)"
   ]
  }
 ],
 "metadata": {
  "colab": {
   "name": "Cvicenie 2.ipynb",
   "provenance": [],
   "toc_visible": true
  },
  "kernelspec": {
   "display_name": "Python 3 (ipykernel)",
   "language": "python",
   "name": "python3"
  },
  "language_info": {
   "codemirror_mode": {
    "name": "ipython",
    "version": 3
   },
   "file_extension": ".py",
   "mimetype": "text/x-python",
   "name": "python",
   "nbconvert_exporter": "python",
   "pygments_lexer": "ipython3",
   "version": "3.9.7"
  }
 },
 "nbformat": 4,
 "nbformat_minor": 1
}
